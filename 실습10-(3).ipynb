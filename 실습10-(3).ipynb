{
 "cells": [
  {
   "cell_type": "code",
   "execution_count": 51,
   "metadata": {
    "scrolled": true
   },
   "outputs": [
    {
     "name": "stdout",
     "output_type": "stream",
     "text": [
      "Calculate QF(Quadratic Formula) for PSE(Perfect Square Expression)\n",
      "ex) ax^2 + bx + c = 0\n",
      "Input a: 0\n",
      "Input b: 1\n",
      "Input c: 4\n",
      "Calculated answer is(are):\n",
      "-4.00\n"
     ]
    }
   ],
   "source": [
    "def getDiscriminant(a, b, c):\n",
    "    return (b ** 2) - (4 * a * c)\n",
    "\n",
    "def getQuadraticFormula(a, b, c):\n",
    "    QF = None\n",
    "    D = 0 \n",
    "\n",
    "    if a == 0:\n",
    "        if b == 0:\n",
    "            if c == 0:\n",
    "                QF = True\n",
    "            else:\n",
    "                QF = False\n",
    "        else:\n",
    "            QF = c / (-b)\n",
    "    else:\n",
    "        D = getDiscriminant(a, b, c)\n",
    "        \n",
    "        if D > 0:\n",
    "            QF = (\n",
    "                (-b + D ** 0.5) / (2 * a),\n",
    "                (-b - D ** 0.5) / (2 * a))\n",
    "        elif D < 0:\n",
    "             QF = (\n",
    "             complex((-b) / (2 * a), (-D) ** 0.5 / (2 * a)),\n",
    "             complex((-b) / (2 * a), - ((-D) ** 0.5) / (2 * a)))\n",
    "        else:\n",
    "            QF = (-b) / (2 * a)\n",
    "    return QF\n",
    "\n",
    "print(\"Calculate QF(Quadratic Formula) for PSE(Perfect Square Expression)\")\n",
    "print(\"ex) ax^2 + bx + c = 0\")\n",
    "\n",
    "a = int(input(\"Input a: \"))\n",
    "b = int(input(\"Input b: \"))\n",
    "c = int(input(\"Input c: \"))\n",
    "\n",
    "QF = getQuadraticFormula(a, b, c)\n",
    "\n",
    "print(\"Calculated answer is(are):\")\n",
    "\n",
    "if QF == True:\n",
    "    print(\"Infinity.\")\n",
    "\n",
    "elif QF == False:\n",
    "    print(\"None.\")\n",
    "\n",
    "elif isinstance(QF, tuple):\n",
    "    for answer in QF:\n",
    "        print(\"{:.2f}\".format(answer))\n",
    "else:\n",
    "    print(\"{:.2f}\".format(QF))"
   ]
  },
  {
   "cell_type": "code",
   "execution_count": null,
   "metadata": {},
   "outputs": [],
   "source": []
  }
 ],
 "metadata": {
  "kernelspec": {
   "display_name": "Python 3",
   "language": "python",
   "name": "python3"
  },
  "language_info": {
   "codemirror_mode": {
    "name": "ipython",
    "version": 3
   },
   "file_extension": ".py",
   "mimetype": "text/x-python",
   "name": "python",
   "nbconvert_exporter": "python",
   "pygments_lexer": "ipython3",
   "version": "3.7.6"
  }
 },
 "nbformat": 4,
 "nbformat_minor": 2
}
