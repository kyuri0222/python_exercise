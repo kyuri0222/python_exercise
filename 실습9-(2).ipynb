{
 "cells": [
  {
   "cell_type": "code",
   "execution_count": 2,
   "metadata": {},
   "outputs": [
    {
     "name": "stdout",
     "output_type": "stream",
     "text": [
      "Input number of programming language: 2\n",
      "프로그래밍 언어 이름: 파이썬\n",
      "프로그래밍 언어 설명: 쉬운 언어\n",
      "프로그래밍 언어 이름: C 언어\n",
      "프로그래밍 언어 설명: 어려운 언어\n",
      "=영어사전 생성=\n",
      "description:  쉬운 언어\n",
      "Input the name of the language in English: Python\n",
      "Input the description of the language in English: An easy programming language\n",
      "=영어사전 생성=\n",
      "description:  어려운 언어\n",
      "Input the name of the language in English: C language\n",
      "Input the description of the language in English: A hard programming language\n",
      "=결과 사전 출력=\n",
      "{'파이썬': '쉬운 언어', 'C 언어': '어려운 언어'}\n",
      "{'Python': 'An easy programming language', 'C language': 'A hard programming language'}\n"
     ]
    }
   ],
   "source": [
    "def generateDictionary(n):\n",
    "    dic = {}\n",
    "    \n",
    "    for i in range(n):\n",
    "        word = input (\"프로그래밍 언어 이름: \")\n",
    "        desc = input(\"프로그래밍 언어 설명: \")\n",
    "        dic[word] = desc\n",
    "        \n",
    "    return dic\n",
    "\n",
    "def translateDictionary(dic):\n",
    "    new_dic = {}\n",
    "    \n",
    "    for word in dic:\n",
    "        print('=영어사전 생성=')\n",
    "        print(\"description: \", dic[word])\n",
    "        new_word = input(\"Input the name of the language in English: \")\n",
    "        new_desc = input(\"Input the description of the language in English: \")\n",
    "        new_dic[new_word] = new_desc\n",
    "    return new_dic\n",
    "\n",
    "def printDictionary(*dicts):\n",
    "    for dic in dicts:\n",
    "        for word in dic:\n",
    "            print(word, ':', dic[word])\n",
    "\n",
    "n = int(input(\"Input number of programming language: \"))\n",
    "dic1 = generateDictionary(n)\n",
    "dic2 = translateDictionary(dic1)\n",
    "print('=결과 사전 출력=')\n",
    "print(dic1)\n",
    "print(dic2)"
   ]
  }
 ],
 "metadata": {
  "kernelspec": {
   "display_name": "Python 3",
   "language": "python",
   "name": "python3"
  },
  "language_info": {
   "codemirror_mode": {
    "name": "ipython",
    "version": 3
   },
   "file_extension": ".py",
   "mimetype": "text/x-python",
   "name": "python",
   "nbconvert_exporter": "python",
   "pygments_lexer": "ipython3",
   "version": "3.7.6"
  }
 },
 "nbformat": 4,
 "nbformat_minor": 4
}
