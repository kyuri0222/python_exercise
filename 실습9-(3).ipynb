{
 "cells": [
  {
   "cell_type": "code",
   "execution_count": 3,
   "metadata": {},
   "outputs": [
    {
     "name": "stdout",
     "output_type": "stream",
     "text": [
      "Input number of keys: 2\n",
      "프로그래밍 언어 이름: 파이썬\n",
      "프로그래밍 언어 설명: 쉬운 언어\n",
      "프로그래밍 언어 이름: 씨언어\n",
      "프로그래밍 언어 설명: 어려운 언어\n",
      "=영어사전 생성=\n",
      "description:  쉬운 언어\n",
      "Input the name of the language in English:p\n",
      "Input the description of the language in English:e\n",
      "=영어사전 생성=\n",
      "description:  어려운 언어\n",
      "Input the name of the language in English:c\n",
      "Input the description of the language in English:h\n",
      "Enter a word for search: 쉬운\n",
      "Search result:  ['파이썬']\n",
      "Enter a word for search: 언어\n",
      "Search result:  ['파이썬', '씨언어']\n",
      "Enter a word for search: h\n",
      "Search result:  ['c']\n",
      "Enter a word for search: k\n",
      "No match!! Break!\n"
     ]
    }
   ],
   "source": [
    "def generateDictionary(n):\n",
    "    dic = {}\n",
    "    for i in range(n):\n",
    "        word = input (\"프로그래밍 언어 이름: \")\n",
    "        desc = input(\"프로그래밍 언어 설명: \")\n",
    "        dic[word] = desc\n",
    "    return dic\n",
    "\n",
    "def translateDictionary(dic):\n",
    "    new_dic = {}\n",
    "    for word in dic:\n",
    "        print('=영어사전 생성=')\n",
    "        print(\"description: \", dic[word])\n",
    "        new_word = input(\"Input the name of the language in English:\")\n",
    "        new_desc = input(\"Input the description of the language in English:\")\n",
    "        new_dic[new_word] = new_desc\n",
    "    return new_dic\n",
    "\n",
    "def printDictionary(*dicts):\n",
    "    for dic in dicts:\n",
    "        for word in dic:\n",
    "            print(word, ':', dic[word])\n",
    "            \n",
    "def searchDictionary(*dicts):\n",
    "    while True:\n",
    "        result=[] \n",
    "        searchWord = input(\"Enter a word for search: \")\n",
    "        dic1, dic2 = dicts \n",
    "\n",
    "        for k, v in dic1.items(): \n",
    "            if searchWord in v: \n",
    "                result.append(k)\n",
    "              \n",
    "        for k, v in dic2.items(): \n",
    "            if searchWord in v: \n",
    "                result.append(k)\n",
    "                \n",
    "        if len(result) == 0:\n",
    "            print(\"No match!! Break!\")\n",
    "            break\n",
    "        else : \n",
    "            print(\"Search result: \", result) \n",
    "\n",
    "n = int(input(\"Input number of keys: \"))\n",
    "dic1 = generateDictionary(n)\n",
    "dic2 = translateDictionary(dic1)\n",
    "searchDictionary(dic1,dic2)"
   ]
  },
  {
   "cell_type": "code",
   "execution_count": 1,
   "metadata": {},
   "outputs": [],
   "source": []
  }
 ],
 "metadata": {
  "kernelspec": {
   "display_name": "Python 3",
   "language": "python",
   "name": "python3"
  },
  "language_info": {
   "codemirror_mode": {
    "name": "ipython",
    "version": 3
   },
   "file_extension": ".py",
   "mimetype": "text/x-python",
   "name": "python",
   "nbconvert_exporter": "python",
   "pygments_lexer": "ipython3",
   "version": "3.7.6"
  }
 },
 "nbformat": 4,
 "nbformat_minor": 4
}
