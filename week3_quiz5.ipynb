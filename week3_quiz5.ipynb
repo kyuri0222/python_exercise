{
 "cells": [
  {
   "cell_type": "code",
   "execution_count": 4,
   "metadata": {},
   "outputs": [
    {
     "name": "stdout",
     "output_type": "stream",
     "text": [
      "숫자를 입력하시오 : 3\n",
      "ans = 3\n",
      "ans = 6\n",
      "ans = 9\n",
      "결과값 : 9\n",
      "itersleft = 0\n"
     ]
    }
   ],
   "source": [
    "x=int(input(\"숫자를 입력하시오 : \"))\n",
    "ans=0\n",
    "itersLeft=x\n",
    "\n",
    "while (itersLeft !=0):\n",
    "    ans = ans + x\n",
    "    itersLeft = itersLeft - 1\n",
    "    print(\"ans =\", ans) \n",
    "print(\"결과값 :\",ans)\n",
    "print(\"itersleft =\", itersLeft)"
   ]
  }
 ],
 "metadata": {
  "kernelspec": {
   "display_name": "Python 3",
   "language": "python",
   "name": "python3"
  },
  "language_info": {
   "codemirror_mode": {
    "name": "ipython",
    "version": 3
   },
   "file_extension": ".py",
   "mimetype": "text/x-python",
   "name": "python",
   "nbconvert_exporter": "python",
   "pygments_lexer": "ipython3",
   "version": "3.7.6"
  }
 },
 "nbformat": 4,
 "nbformat_minor": 4
}
