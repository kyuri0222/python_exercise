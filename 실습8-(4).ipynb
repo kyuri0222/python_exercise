{
 "cells": [
  {
   "cell_type": "code",
   "execution_count": 9,
   "metadata": {},
   "outputs": [
    {
     "name": "stdout",
     "output_type": "stream",
     "text": [
      "숫자를 입력해 주세요: 35\n",
      "숫자를 입력해 주세요: 15\n",
      "숫자를 입력해 주세요: 22\n",
      "숫자를 입력해 주세요: 48\n",
      "숫자를 입력해 주세요: 55\n",
      "tuple과 list를 합친 결과 result [10, 15, 20, 22, 30, 35, 40, 48, 55]\n",
      "내 list 정렬값 [15, 22, 35, 48, 55]\n"
     ]
    }
   ],
   "source": [
    "def listSort(mylist):\n",
    "    for i in range(len(mylist)-1):\n",
    "        for j in range(len(mylist)-1):\n",
    "            if mylist[j]>mylist[j+1]:\n",
    "                mylist[j],mylist[j+1]=mylist[j+1],mylist[j]\n",
    "    return mylist \n",
    "\n",
    "def merge(mylist):\n",
    "    mergelist = list(Tuple) + mylist\n",
    "    for i in range(len(mergelist)-1):\n",
    "        for j in range(len(mergelist)-1):\n",
    "            if mergelist[j]>mergelist[j+1]:\n",
    "                mergelist[j],mergelist[j+1]=mergelist[j+1],mergelist[j]\n",
    "    return mergelist\n",
    "\n",
    "Tuple = (10,20,30,40)\n",
    "mylist = []\n",
    "i=0\n",
    "while i < 5 :\n",
    "    x= int(input(\"숫자를 입력해 주세요: \"))\n",
    "    mylist.append(x)\n",
    "    i += 1\n",
    "    if i == 5 :\n",
    "        print(\"tuple과 list를 합친 결과 result\", merge(mylist))\n",
    "        print(\"내 list 정렬값\", listSort(mylist) )"
   ]
  }
 ],
 "metadata": {
  "kernelspec": {
   "display_name": "Python 3",
   "language": "python",
   "name": "python3"
  },
  "language_info": {
   "codemirror_mode": {
    "name": "ipython",
    "version": 3
   },
   "file_extension": ".py",
   "mimetype": "text/x-python",
   "name": "python",
   "nbconvert_exporter": "python",
   "pygments_lexer": "ipython3",
   "version": "3.7.6"
  }
 },
 "nbformat": 4,
 "nbformat_minor": 4
}
