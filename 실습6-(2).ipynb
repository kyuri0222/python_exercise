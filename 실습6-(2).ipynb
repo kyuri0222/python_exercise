{
 "cells": [
  {
   "cell_type": "code",
   "execution_count": 2,
   "metadata": {},
   "outputs": [
    {
     "name": "stdout",
     "output_type": "stream",
     "text": [
      "Input number: 12\n",
      "low = 0.0, high = 12, x_sqrt = 6.0\n",
      "low = 0.0, high = 6.0, x_sqrt = 3.0\n",
      "low = 3.0, high = 6.0, x_sqrt = 4.5\n",
      "low = 3.0, high = 4.5, x_sqrt = 3.75\n",
      "low = 3.0, high = 3.75, x_sqrt = 3.375\n",
      "low = 3.375, high = 3.75, x_sqrt = 3.5625\n",
      "low = 3.375, high = 3.5625, x_sqrt = 3.46875\n",
      "low = 3.375, high = 3.46875, x_sqrt = 3.421875\n",
      "low = 3.421875, high = 3.46875, x_sqrt = 3.4453125\n",
      "low = 3.4453125, high = 3.46875, x_sqrt = 3.45703125\n",
      "12 's square root is 3.462890625\n"
     ]
    }
   ],
   "source": [
    "x = int(input(\"Input number: \"))\n",
    "epsilon = 0.01 \n",
    "numGuesses = 0 \n",
    "low = 0.0 \n",
    "high = max(1.0, x) \n",
    "ans = (high + low)/2.0 \n",
    "\n",
    "while abs(ans**2 - x) >= epsilon:     \n",
    "    print (\"low =\", str(low)+\",\", \"high =\", str(high)+\",\", \"x_sqrt =\", ans )\n",
    "    numGuesses += 1     \n",
    "    if ans**2 < x:         \n",
    "        low = ans     \n",
    "    else:         \n",
    "        high = ans     \n",
    "    ans = (high + low)/2.0 \n",
    "print (x, \"'s square root is\", ans )"
   ]
  },
  {
   "cell_type": "code",
   "execution_count": null,
   "metadata": {},
   "outputs": [],
   "source": []
  },
  {
   "cell_type": "code",
   "execution_count": null,
   "metadata": {},
   "outputs": [],
   "source": []
  },
  {
   "cell_type": "code",
   "execution_count": null,
   "metadata": {},
   "outputs": [],
   "source": []
  },
  {
   "cell_type": "code",
   "execution_count": null,
   "metadata": {},
   "outputs": [],
   "source": []
  },
  {
   "cell_type": "code",
   "execution_count": null,
   "metadata": {},
   "outputs": [],
   "source": []
  },
  {
   "cell_type": "code",
   "execution_count": null,
   "metadata": {},
   "outputs": [],
   "source": []
  },
  {
   "cell_type": "code",
   "execution_count": null,
   "metadata": {},
   "outputs": [],
   "source": []
  },
  {
   "cell_type": "code",
   "execution_count": null,
   "metadata": {},
   "outputs": [],
   "source": []
  }
 ],
 "metadata": {
  "kernelspec": {
   "display_name": "Python 3",
   "language": "python",
   "name": "python3"
  },
  "language_info": {
   "codemirror_mode": {
    "name": "ipython",
    "version": 3
   },
   "file_extension": ".py",
   "mimetype": "text/x-python",
   "name": "python",
   "nbconvert_exporter": "python",
   "pygments_lexer": "ipython3",
   "version": "3.7.6"
  }
 },
 "nbformat": 4,
 "nbformat_minor": 4
}
