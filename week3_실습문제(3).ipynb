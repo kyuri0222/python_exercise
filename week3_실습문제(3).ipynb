{
 "cells": [
  {
   "cell_type": "code",
   "execution_count": 4,
   "metadata": {},
   "outputs": [
    {
     "name": "stdout",
     "output_type": "stream",
     "text": [
      "Input a string: zbaacddzz\n",
      "The result is: acdd\n"
     ]
    }
   ],
   "source": [
    "inputString = input(\"Input a string: \")\n",
    "\n",
    "startIndex, endIndex, i  = -1, -1, 0\n",
    "\n",
    "while (True) :\n",
    "    if inputString[i] == \"a\" and startIndex == -1:\n",
    "        startIndex = i\n",
    "    if inputString[i] == \"z\" and endIndex == -1 and startIndex != -1 :\n",
    "        endIndex = i\n",
    "        break\n",
    "    i = i+1 \n",
    "    \n",
    "outputString=inputString[startIndex+1:endIndex]\n",
    "print(\"The result is:\", outputString)"
   ]
  }
 ],
 "metadata": {
  "kernelspec": {
   "display_name": "Python 3",
   "language": "python",
   "name": "python3"
  },
  "language_info": {
   "codemirror_mode": {
    "name": "ipython",
    "version": 3
   },
   "file_extension": ".py",
   "mimetype": "text/x-python",
   "name": "python",
   "nbconvert_exporter": "python",
   "pygments_lexer": "ipython3",
   "version": "3.7.6"
  }
 },
 "nbformat": 4,
 "nbformat_minor": 4
}
