{
 "cells": [
  {
   "cell_type": "code",
   "execution_count": 2,
   "metadata": {},
   "outputs": [
    {
     "name": "stdout",
     "output_type": "stream",
     "text": [
      "Input loop count: 3\n",
      "--------------------------\n",
      "Input name: 김규리\n",
      "Input student id: 2\n",
      "경고\n",
      "Input student id: 60185077\n",
      "Input grade: 22\n",
      "경고\n",
      "Input grade: 3\n",
      "--------------------------\n",
      "Input name: 김도형\n",
      "Input student id: 60170111\n",
      "Input grade: 1\n",
      "--------------------------\n",
      "Input name: 이경식\n",
      "Input student id: 60170113\n",
      "Input grade: 1\n",
      "--------------------------\n",
      "[Student(name='김도형', stdId='60170111', grade='1'), Student(name='이경식', stdId='60170113', grade='1'), Student(name='김규리', stdId='60185077', grade='3')]\n"
     ]
    }
   ],
   "source": [
    "import collections \n",
    "from operator import attrgetter \n",
    "\n",
    "Student = collections.namedtuple(\"Student\", \"name stdId grade\")\n",
    "\n",
    "def function1(n):\n",
    "    stdList = []\n",
    "    \n",
    "    for i in range(n):\n",
    "        name1 = input(\"Input name: \")\n",
    "        \n",
    "        while (True):\n",
    "            stdId1 = input(\"Input student id: \")\n",
    "            if len(stdId1) == 8:\n",
    "                break\n",
    "            print(\"경고\")\n",
    "            continue\n",
    "        \n",
    "        while (True):\n",
    "            grade1= input(\"Input grade: \")\n",
    "            if len(grade1) == 1:\n",
    "                break\n",
    "            print(\"경고\")\n",
    "            continue\n",
    "        \n",
    "        std = Student(name=name1, stdId = stdId1, grade = grade1 )\n",
    "        stdList.append(std)\n",
    "        print(\"--------------------------\")\n",
    "        \n",
    "    stdList = sorted(stdList, key = attrgetter(\"stdId\"))\n",
    "    \n",
    "    return stdList\n",
    "        \n",
    "n = int(input(\"Input loop count: \"))\n",
    "print(\"--------------------------\")\n",
    "a = function1(n)\n",
    "print(a)"
   ]
  }
 ],
 "metadata": {
  "kernelspec": {
   "display_name": "Python 3",
   "language": "python",
   "name": "python3"
  },
  "language_info": {
   "codemirror_mode": {
    "name": "ipython",
    "version": 3
   },
   "file_extension": ".py",
   "mimetype": "text/x-python",
   "name": "python",
   "nbconvert_exporter": "python",
   "pygments_lexer": "ipython3",
   "version": "3.8.8"
  }
 },
 "nbformat": 4,
 "nbformat_minor": 4
}
