{
 "cells": [
  {
   "cell_type": "code",
   "execution_count": 1,
   "metadata": {},
   "outputs": [
    {
     "name": "stdout",
     "output_type": "stream",
     "text": [
      "Input 1st string: My FIRST\n",
      "Input 2nd string: Programming Language\n",
      "Input 3rd string: is Python!\n",
      "The merged string: My FIRST Programming Language is Python!\n"
     ]
    }
   ],
   "source": [
    "str1=str(input(\"Input 1st string: \"))\n",
    "str2=str(input(\"Input 2nd string: \"))\n",
    "str3=str(input(\"Input 3rd string: \"))\n",
    "\n",
    "print (\"The merged string:\", str1 +\" \"+ str2 +\" \"+ str3)"
   ]
  }
 ],
 "metadata": {
  "kernelspec": {
   "display_name": "Python 3",
   "language": "python",
   "name": "python3"
  },
  "language_info": {
   "codemirror_mode": {
    "name": "ipython",
    "version": 3
   },
   "file_extension": ".py",
   "mimetype": "text/x-python",
   "name": "python",
   "nbconvert_exporter": "python",
   "pygments_lexer": "ipython3",
   "version": "3.7.6"
  }
 },
 "nbformat": 4,
 "nbformat_minor": 4
}
