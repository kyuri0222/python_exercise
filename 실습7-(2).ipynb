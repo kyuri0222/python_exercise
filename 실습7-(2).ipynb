{
 "cells": [
  {
   "cell_type": "code",
   "execution_count": 2,
   "metadata": {},
   "outputs": [
    {
     "name": "stdout",
     "output_type": "stream",
     "text": [
      "Input two numbers: \n",
      "34\n",
      "56\n",
      "Result result is 90\n",
      "Minus result is -22\n",
      "Multiply result is 1904\n",
      "Division result is 0.6071428571428571\n"
     ]
    }
   ],
   "source": [
    "def my_plus(x,y):\n",
    "    return x+y\n",
    "\n",
    "def my_minus(x,y):\n",
    "    return x-y\n",
    "\n",
    "def my_multiply(x,y):\n",
    "    return x*y\n",
    "\n",
    "def my_division(x,y):\n",
    "    return x/y\n",
    "\n",
    "print(\"Input two numbers: \")\n",
    "x = int(input())\n",
    "y = int(input())\n",
    "\n",
    "print(\"Result result is\", my_plus(x,y))\n",
    "print(\"Minus result is\", my_minus(x,y))\n",
    "print(\"Multiply result is\", my_multiply(x,y))\n",
    "print(\"Division result is\", my_division(x,y))"
   ]
  }
 ],
 "metadata": {
  "kernelspec": {
   "display_name": "Python 3",
   "language": "python",
   "name": "python3"
  },
  "language_info": {
   "codemirror_mode": {
    "name": "ipython",
    "version": 3
   },
   "file_extension": ".py",
   "mimetype": "text/x-python",
   "name": "python",
   "nbconvert_exporter": "python",
   "pygments_lexer": "ipython3",
   "version": "3.7.6"
  }
 },
 "nbformat": 4,
 "nbformat_minor": 4
}
