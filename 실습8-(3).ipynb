{
 "cells": [
  {
   "cell_type": "code",
   "execution_count": 19,
   "metadata": {},
   "outputs": [
    {
     "name": "stdout",
     "output_type": "stream",
     "text": [
      "학생의 수를 입력하세요: 5\n",
      "성적을 입력하세요: 50\n",
      "성적을 입력하세요: 40\n",
      "성적을 입력하세요: 30\n",
      "성적을 입력하세요: 20\n",
      "성적을 입력하세요: 10\n",
      "성적 평균은 30.0 입니다.\n",
      "가장 높은 점수는 50 입니다.\n",
      "가장 낮은 점수는 10 입니다.\n"
     ]
    }
   ],
   "source": [
    "def grade_avg(stdlist):\n",
    "    sum = 0\n",
    "    for i in stdlist:\n",
    "        sum += i \n",
    "    return sum/stdnum\n",
    "\n",
    "def grade_max(stdlist):\n",
    "    max = stdlist[0]\n",
    "    for i in stdlist:\n",
    "        if i > max:\n",
    "            max = i\n",
    "    return max\n",
    "\n",
    "def grade_min(stdlist):\n",
    "    min =stdlist[0]\n",
    "    for i in stdlist:\n",
    "        if i < min:\n",
    "            min = i\n",
    "    return min\n",
    "\n",
    "stdnum = int(input(\"학생의 수를 입력하세요: \"))\n",
    "stdlist = []\n",
    "x = 0\n",
    "\n",
    "while x < stdnum :\n",
    "    grade = int(input(\"성적을 입력하세요: \"))\n",
    "    stdlist.append(grade)\n",
    "    x += 1\n",
    "    if x == stdnum :\n",
    "        print(\"성적 평균은\", grade_avg(stdlist), \"입니다.\")  \n",
    "        print(\"가장 높은 점수는\", grade_max(stdlist), \"입니다.\")\n",
    "        print(\"가장 낮은 점수는\", grade_min(stdlist), \"입니다.\")"
   ]
  },
  {
   "cell_type": "code",
   "execution_count": null,
   "metadata": {},
   "outputs": [],
   "source": []
  },
  {
   "cell_type": "code",
   "execution_count": null,
   "metadata": {},
   "outputs": [],
   "source": []
  },
  {
   "cell_type": "code",
   "execution_count": null,
   "metadata": {},
   "outputs": [],
   "source": []
  }
 ],
 "metadata": {
  "kernelspec": {
   "display_name": "Python 3",
   "language": "python",
   "name": "python3"
  },
  "language_info": {
   "codemirror_mode": {
    "name": "ipython",
    "version": 3
   },
   "file_extension": ".py",
   "mimetype": "text/x-python",
   "name": "python",
   "nbconvert_exporter": "python",
   "pygments_lexer": "ipython3",
   "version": "3.7.6"
  }
 },
 "nbformat": 4,
 "nbformat_minor": 4
}
