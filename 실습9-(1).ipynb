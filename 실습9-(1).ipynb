{
 "cells": [
  {
   "cell_type": "code",
   "execution_count": 1,
   "metadata": {},
   "outputs": [
    {
     "name": "stdout",
     "output_type": "stream",
     "text": [
      "Input number of programming lanuages: 2\n",
      "프로그래밍 언어 이름: vkdlTjs\n",
      "프로그래밍 언어 설명: 쉬운 언어\n",
      "프로그래밍 언어 이름: C 언어\n",
      "프로그래밍 언어 설명: 어려운 언어\n",
      "{'vkdlTjs': '쉬운 언어', 'C 언어': '어려운 언어'}\n"
     ]
    }
   ],
   "source": [
    "def generateDictionary(n):\n",
    "    dic = {}\n",
    "    \n",
    "    for i in range(n):\n",
    "        word = input (\"프로그래밍 언어 이름: \")\n",
    "        desc = input(\"프로그래밍 언어 설명: \")\n",
    "        dic[word] = desc\n",
    "        \n",
    "    return dic\n",
    "    \n",
    "\n",
    "n = int(input(\"Input number of programming lanuages: \"))\n",
    "print(generateDictionary(n))"
   ]
  },
  {
   "cell_type": "code",
   "execution_count": null,
   "metadata": {},
   "outputs": [],
   "source": [
    " def generateDictionary(n):\n",
    "    dic = {}\n",
    "    \n",
    "    for i in range(n):\n",
    "        word = input (\"프로그래밍 언어 이름: \")\n",
    "        desc = input(\"프로그래밍 언어 설명: \")\n",
    "        dic[word] = desc\n",
    "        \n",
    "    return dic\n",
    "\n",
    "def printDictionary(*dicts):\n",
    "    for dic in dicts:\n",
    "        for word in dic:\n",
    "            print(word, ':', dic[word])\n",
    "\n",
    "n = int(input(\"Input number of keys: \"))\n",
    "dic1 = (generateDictionary(n))\n",
    "dic2 = (generateDictionary(n))\n",
    "printDictionary(dic1, dic2)"
   ]
  }
 ],
 "metadata": {
  "kernelspec": {
   "display_name": "Python 3",
   "language": "python",
   "name": "python3"
  },
  "language_info": {
   "codemirror_mode": {
    "name": "ipython",
    "version": 3
   },
   "file_extension": ".py",
   "mimetype": "text/x-python",
   "name": "python",
   "nbconvert_exporter": "python",
   "pygments_lexer": "ipython3",
   "version": "3.7.6"
  }
 },
 "nbformat": 4,
 "nbformat_minor": 4
}
