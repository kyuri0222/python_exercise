{
 "cells": [
  {
   "cell_type": "code",
   "execution_count": 3,
   "metadata": {},
   "outputs": [
    {
     "name": "stdout",
     "output_type": "stream",
     "text": [
      "Input number: 10\n"
     ]
    },
    {
     "ename": "NameError",
     "evalue": "name 'x_hex_dic' is not defined",
     "output_type": "error",
     "traceback": [
      "\u001b[1;31m---------------------------------------------------------------------------\u001b[0m",
      "\u001b[1;31mNameError\u001b[0m                                 Traceback (most recent call last)",
      "\u001b[1;32m<ipython-input-3-5d52b373c4bb>\u001b[0m in \u001b[0;36m<module>\u001b[1;34m\u001b[0m\n\u001b[0;32m     15\u001b[0m \u001b[1;32mwhile\u001b[0m\u001b[1;33m(\u001b[0m\u001b[0mtemp\u001b[0m\u001b[1;33m>\u001b[0m\u001b[1;36m0\u001b[0m\u001b[1;33m)\u001b[0m\u001b[1;33m:\u001b[0m\u001b[1;33m\u001b[0m\u001b[1;33m\u001b[0m\u001b[0m\n\u001b[0;32m     16\u001b[0m     \u001b[1;32mif\u001b[0m\u001b[1;33m(\u001b[0m\u001b[0mtemp\u001b[0m\u001b[1;33m%\u001b[0m\u001b[1;36m16\u001b[0m\u001b[1;33m>\u001b[0m\u001b[1;36m9\u001b[0m\u001b[1;33m)\u001b[0m\u001b[1;33m:\u001b[0m\u001b[1;33m\u001b[0m\u001b[1;33m\u001b[0m\u001b[0m\n\u001b[1;32m---> 17\u001b[1;33m         \u001b[0mx_hex\u001b[0m \u001b[1;33m=\u001b[0m \u001b[0mx_hex_dic\u001b[0m\u001b[1;33m[\u001b[0m\u001b[0mtemp\u001b[0m\u001b[1;33m%\u001b[0m\u001b[1;36m16\u001b[0m\u001b[1;33m-\u001b[0m\u001b[1;36m10\u001b[0m\u001b[1;33m]\u001b[0m \u001b[1;33m+\u001b[0m \u001b[0mx_hex\u001b[0m\u001b[1;33m\u001b[0m\u001b[1;33m\u001b[0m\u001b[0m\n\u001b[0m\u001b[0;32m     18\u001b[0m     \u001b[1;32melse\u001b[0m\u001b[1;33m:\u001b[0m\u001b[1;33m\u001b[0m\u001b[1;33m\u001b[0m\u001b[0m\n\u001b[0;32m     19\u001b[0m         \u001b[0mx_hex\u001b[0m \u001b[1;33m=\u001b[0m \u001b[0mstr\u001b[0m\u001b[1;33m(\u001b[0m\u001b[0mtemp\u001b[0m\u001b[1;33m%\u001b[0m\u001b[1;36m16\u001b[0m\u001b[1;33m)\u001b[0m \u001b[1;33m+\u001b[0m \u001b[0mx_hex\u001b[0m\u001b[1;33m\u001b[0m\u001b[1;33m\u001b[0m\u001b[0m\n",
      "\u001b[1;31mNameError\u001b[0m: name 'x_hex_dic' is not defined"
     ]
    }
   ],
   "source": [
    "x=int(input(\"Input number: \"))\n",
    "x_oct=\"\"\n",
    "x_hex=\"\"\n",
    "x_hex_dix=['A','B','C','D','E','F']\n",
    "\n",
    "\n",
    "temp=x\n",
    "\n",
    "while(temp>0):\n",
    "    x_oct = str(temp%8) + x_oct #temp를 8로나눈 나머지에 더해주세요\n",
    "    temp //= 8\n",
    "    \n",
    "temp=x\n",
    "\n",
    "while(temp>0):\n",
    "    if(temp%16>9):\n",
    "        x_hex = x_hex_dic[temp%16-10] + x_hex\n",
    "    else:\n",
    "        x_hex = str(temp%16) + x_hex\n",
    "        \n",
    "    temp //=16\n",
    "    \n",
    "if (x==0):\n",
    "    x_oct = '0'\n",
    "    x_hex = '0'\n",
    "    \n",
    "print(str(x)+\"'s octal number is 0\"+ x_oct)\n",
    "print(str(x)+\"'s hexadecimal number is 0x\"+x_hex)"
   ]
  },
  {
   "cell_type": "code",
   "execution_count": null,
   "metadata": {},
   "outputs": [],
   "source": []
  }
 ],
 "metadata": {
  "kernelspec": {
   "display_name": "Python 3",
   "language": "python",
   "name": "python3"
  },
  "language_info": {
   "codemirror_mode": {
    "name": "ipython",
    "version": 3
   },
   "file_extension": ".py",
   "mimetype": "text/x-python",
   "name": "python",
   "nbconvert_exporter": "python",
   "pygments_lexer": "ipython3",
   "version": "3.7.6"
  }
 },
 "nbformat": 4,
 "nbformat_minor": 4
}
