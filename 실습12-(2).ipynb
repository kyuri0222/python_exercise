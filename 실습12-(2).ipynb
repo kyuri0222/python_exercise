{
 "cells": [
  {
   "cell_type": "code",
   "execution_count": 1,
   "metadata": {},
   "outputs": [
    {
     "name": "stdout",
     "output_type": "stream",
     "text": [
      "Cannot remove the remove the key c! It is not in the hashMap!\n",
      "[1, 20, 50, 70, 100]\n",
      "{'a': 1, 'b': 100, 'c': 50, 'd': 20, 'f': 70}\n"
     ]
    }
   ],
   "source": [
    "class HashMap(object):\n",
    "    \n",
    "    def __init__(self):\n",
    "        self.container={}\n",
    "        \n",
    "    def insert(self,key,value):\n",
    "        if key in self.container:\n",
    "            return (\"The key {} is already in the hashMap!\".format(key))\n",
    "        else:\n",
    "            self.container[key]=value\n",
    "        \n",
    "    def delete(self,key):\n",
    "        if self.contain(key):\n",
    "            del self.container[key]\n",
    "        else:\n",
    "            raise ValueError(\"Cannot remove the remove the key {}! It is not in the hashMap!\".format(key))\n",
    "        \n",
    "    def get(self,key):\n",
    "        try:\n",
    "            return self.container[key]\n",
    "        except:\n",
    "            return None\n",
    "    \n",
    "    def contain(self, key):\n",
    "        return key in self.container\n",
    "    \n",
    "    def scoreSort(self):\n",
    "        mylist = list(self.container.values())\n",
    "        for i in range(len(mylist)-1):\n",
    "            for j in range(len(mylist)-1):\n",
    "                if mylist[j]>mylist[j+1]:\n",
    "                    mylist[j],mylist[j+1]=mylist[j+1],mylist[j]\n",
    "        return mylist\n",
    "    \n",
    "    def __str__(self):\n",
    "        return str(self.container)\n",
    "\n",
    "hashMap = HashMap()\n",
    "hashMap.insert(\"a\",1)\n",
    "hashMap.insert(\"a\",100)\n",
    "try:\n",
    "    hashMap.delete(\"c\")\n",
    "except ValueError as msg:\n",
    "    print(msg)\n",
    "hashMap.insert(\"b\",100)\n",
    "hashMap.insert(\"c\",50)\n",
    "hashMap.insert(\"d\",20)\n",
    "hashMap.insert(\"f\",70)\n",
    "print(hashMap.scoreSort())\n",
    "print(hashMap)"
   ]
  }
 ],
 "metadata": {
  "kernelspec": {
   "display_name": "Python 3",
   "language": "python",
   "name": "python3"
  },
  "language_info": {
   "codemirror_mode": {
    "name": "ipython",
    "version": 3
   },
   "file_extension": ".py",
   "mimetype": "text/x-python",
   "name": "python",
   "nbconvert_exporter": "python",
   "pygments_lexer": "ipython3",
   "version": "3.7.6"
  }
 },
 "nbformat": 4,
 "nbformat_minor": 4
}
