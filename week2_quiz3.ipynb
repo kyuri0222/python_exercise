{
 "cells": [
  {
   "cell_type": "code",
   "execution_count": 2,
   "metadata": {
    "scrolled": true
   },
   "outputs": [
    {
     "name": "stdout",
     "output_type": "stream",
     "text": [
      "Input your first name: kyuri\n",
      "Input your last name: kim\n",
      "Input your birth year(e.g., 2000): 1998\n",
      "Input your this year(e.g., 2020): 2020\n",
      "Input your gender(e.g., male or female): female\n",
      "Input your school-id(e.g., 20200015): 60185077\n",
      "My name is kyuri kim.\n",
      "I am 22 year old female.\n",
      "And I am a student of Data technology major in Myongi University!\n",
      "My student id is 60185077 and I am happy to join this major!\n"
     ]
    }
   ],
   "source": [
    "first_name=input(\"Input your first name: \")\n",
    "last_name=input(\"Input your last name: \")\n",
    "\n",
    "birth_year=int(input(\"Input your birth year(e.g., 2000): \"))\n",
    "this_year=int(input(\"Input your this year(e.g., 2020): \"))\n",
    "\n",
    "gender=input(\"Input your gender(e.g., male or female): \")\n",
    "school_id=input(\"Input your school-id(e.g., 20200015): \")\n",
    "\n",
    "print(\"My name is\",first_name,last_name+\".\")\n",
    "print(\"I am\",this_year-birth_year,\"year old\",gender+\".\")\n",
    "print(\"And I am a student of Data technology major in Myongi University!\")\n",
    "print(\"My student id is\", school_id,\"and I am happy to join this major!\")"
   ]
  },
  {
   "cell_type": "code",
   "execution_count": null,
   "metadata": {},
   "outputs": [],
   "source": []
  },
  {
   "cell_type": "code",
   "execution_count": null,
   "metadata": {},
   "outputs": [],
   "source": []
  }
 ],
 "metadata": {
  "kernelspec": {
   "display_name": "Python 3",
   "language": "python",
   "name": "python3"
  },
  "language_info": {
   "codemirror_mode": {
    "name": "ipython",
    "version": 3
   },
   "file_extension": ".py",
   "mimetype": "text/x-python",
   "name": "python",
   "nbconvert_exporter": "python",
   "pygments_lexer": "ipython3",
   "version": "3.7.6"
  }
 },
 "nbformat": 4,
 "nbformat_minor": 4
}
