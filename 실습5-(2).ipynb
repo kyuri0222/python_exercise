{
 "cells": [
  {
   "cell_type": "code",
   "execution_count": 13,
   "metadata": {},
   "outputs": [
    {
     "name": "stdout",
     "output_type": "stream",
     "text": [
      "Input an integer: 35\n",
      "Input an integer: 46\n",
      "Input an integer: 97\n",
      "Input an integer: 100\n",
      "Input an integer: 55\n",
      "Input an integer: EOF\n",
      "The score is 35,so no driver license!\n",
      "The score is 46,so no driver license!\n",
      "The score is 97,so issued driver license!\n",
      "The score is 100,so issued driver license!\n",
      "The score is 55,so no driver license!\n"
     ]
    }
   ],
   "source": [
    "scores = []\n",
    "\n",
    "while (1):\n",
    "    temp = input(\"Input an integer: \")\n",
    "    \n",
    "    if (temp != \"EOF\"):\n",
    "        scores.append(int(temp))\n",
    "    else:\n",
    "        break\n",
    "\n",
    "print(scores)\n",
    "        \n",
    "for score in scores:\n",
    "    if score < 70:\n",
    "        print(\"The score is \"+str(score)+\",so no driver license!\")\n",
    "    else:\n",
    "        print(\"The score is \"+str(score)+\",so issued driver license!\")"
   ]
  },
  {
   "cell_type": "code",
   "execution_count": null,
   "metadata": {},
   "outputs": [],
   "source": []
  },
  {
   "cell_type": "code",
   "execution_count": null,
   "metadata": {},
   "outputs": [],
   "source": []
  },
  {
   "cell_type": "code",
   "execution_count": null,
   "metadata": {},
   "outputs": [],
   "source": []
  },
  {
   "cell_type": "code",
   "execution_count": null,
   "metadata": {},
   "outputs": [],
   "source": []
  },
  {
   "cell_type": "code",
   "execution_count": null,
   "metadata": {},
   "outputs": [],
   "source": []
  },
  {
   "cell_type": "code",
   "execution_count": null,
   "metadata": {},
   "outputs": [],
   "source": []
  },
  {
   "cell_type": "code",
   "execution_count": null,
   "metadata": {},
   "outputs": [],
   "source": []
  },
  {
   "cell_type": "code",
   "execution_count": null,
   "metadata": {},
   "outputs": [],
   "source": []
  }
 ],
 "metadata": {
  "kernelspec": {
   "display_name": "Python 3",
   "language": "python",
   "name": "python3"
  },
  "language_info": {
   "codemirror_mode": {
    "name": "ipython",
    "version": 3
   },
   "file_extension": ".py",
   "mimetype": "text/x-python",
   "name": "python",
   "nbconvert_exporter": "python",
   "pygments_lexer": "ipython3",
   "version": "3.7.6"
  }
 },
 "nbformat": 4,
 "nbformat_minor": 4
}
